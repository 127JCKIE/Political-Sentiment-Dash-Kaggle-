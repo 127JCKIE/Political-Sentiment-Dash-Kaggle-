{
 "cells": [
  {
   "cell_type": "code",
   "execution_count": 1,
   "id": "5b358eb3",
   "metadata": {
    "_cell_guid": "b1076dfc-b9ad-4769-8c92-a6c4dae69d19",
    "_uuid": "8f2839f25d086af736a60e9eeb907d3b93b6e0e5",
    "execution": {
     "iopub.execute_input": "2025-07-08T04:07:26.117966Z",
     "iopub.status.busy": "2025-07-08T04:07:26.117548Z",
     "iopub.status.idle": "2025-07-08T04:07:28.301341Z",
     "shell.execute_reply": "2025-07-08T04:07:28.300171Z"
    },
    "papermill": {
     "duration": 2.191282,
     "end_time": "2025-07-08T04:07:28.303198",
     "exception": false,
     "start_time": "2025-07-08T04:07:26.111916",
     "status": "completed"
    },
    "tags": []
   },
   "outputs": [
    {
     "name": "stdout",
     "output_type": "stream",
     "text": [
      "/kaggle/input/2024-u-s-election-sentiment-on-x/val.csv\n",
      "/kaggle/input/2024-u-s-election-sentiment-on-x/train.csv\n",
      "/kaggle/input/2024-u-s-election-sentiment-on-x/test.csv\n"
     ]
    }
   ],
   "source": [
    "# This Python 3 environment comes with many helpful analytics libraries installed\n",
    "# It is defined by the kaggle/python Docker image: https://github.com/kaggle/docker-python\n",
    "# For example, here's several helpful packages to load\n",
    "\n",
    "import numpy as np # linear algebra\n",
    "import pandas as pd # data processing, CSV file I/O (e.g. pd.read_csv)\n",
    "\n",
    "# Input data files are available in the read-only \"../input/\" directory\n",
    "# For example, running this (by clicking run or pressing Shift+Enter) will list all files under the input directory\n",
    "\n",
    "import os\n",
    "for dirname, _, filenames in os.walk('/kaggle/input'):\n",
    "    for filename in filenames:\n",
    "        print(os.path.join(dirname, filename))\n",
    "\n",
    "# You can write up to 20GB to the current directory (/kaggle/working/) that gets preserved as output when you create a version using \"Save & Run All\" \n",
    "# You can also write temporary files to /kaggle/temp/, but they won't be saved outside of the current session"
   ]
  },
  {
   "cell_type": "markdown",
   "id": "7c8f8fe6",
   "metadata": {
    "papermill": {
     "duration": 0.003532,
     "end_time": "2025-07-08T04:07:28.310924",
     "exception": false,
     "start_time": "2025-07-08T04:07:28.307392",
     "status": "completed"
    },
    "tags": []
   },
   "source": [
    "# Environment Setup"
   ]
  },
  {
   "cell_type": "code",
   "execution_count": 2,
   "id": "0157c9bc",
   "metadata": {
    "execution": {
     "iopub.execute_input": "2025-07-08T04:07:28.320097Z",
     "iopub.status.busy": "2025-07-08T04:07:28.319555Z",
     "iopub.status.idle": "2025-07-08T04:07:33.967481Z",
     "shell.execute_reply": "2025-07-08T04:07:33.966139Z"
    },
    "papermill": {
     "duration": 5.655748,
     "end_time": "2025-07-08T04:07:33.970536",
     "exception": false,
     "start_time": "2025-07-08T04:07:28.314788",
     "status": "completed"
    },
    "tags": []
   },
   "outputs": [
    {
     "name": "stdout",
     "output_type": "stream",
     "text": [
      "Requirement already satisfied: seaborn in /usr/local/lib/python3.11/dist-packages (0.12.2)\r\n",
      "Requirement already satisfied: numpy in /usr/local/lib/python3.11/dist-packages (1.26.4)\r\n",
      "Requirement already satisfied: pandas in /usr/local/lib/python3.11/dist-packages (2.2.3)\r\n",
      "Requirement already satisfied: matplotlib in /usr/local/lib/python3.11/dist-packages (3.7.2)\r\n",
      "Requirement already satisfied: nltk in /usr/local/lib/python3.11/dist-packages (3.9.1)\r\n",
      "Requirement already satisfied: mkl_fft in /usr/local/lib/python3.11/dist-packages (from numpy) (1.3.8)\r\n",
      "Requirement already satisfied: mkl_random in /usr/local/lib/python3.11/dist-packages (from numpy) (1.2.4)\r\n",
      "Requirement already satisfied: mkl_umath in /usr/local/lib/python3.11/dist-packages (from numpy) (0.1.1)\r\n",
      "Requirement already satisfied: mkl in /usr/local/lib/python3.11/dist-packages (from numpy) (2025.2.0)\r\n",
      "Requirement already satisfied: tbb4py in /usr/local/lib/python3.11/dist-packages (from numpy) (2022.2.0)\r\n",
      "Requirement already satisfied: mkl-service in /usr/local/lib/python3.11/dist-packages (from numpy) (2.4.1)\r\n",
      "Requirement already satisfied: python-dateutil>=2.8.2 in /usr/local/lib/python3.11/dist-packages (from pandas) (2.9.0.post0)\r\n",
      "Requirement already satisfied: pytz>=2020.1 in /usr/local/lib/python3.11/dist-packages (from pandas) (2025.2)\r\n",
      "Requirement already satisfied: tzdata>=2022.7 in /usr/local/lib/python3.11/dist-packages (from pandas) (2025.2)\r\n",
      "Requirement already satisfied: contourpy>=1.0.1 in /usr/local/lib/python3.11/dist-packages (from matplotlib) (1.3.2)\r\n",
      "Requirement already satisfied: cycler>=0.10 in /usr/local/lib/python3.11/dist-packages (from matplotlib) (0.12.1)\r\n",
      "Requirement already satisfied: fonttools>=4.22.0 in /usr/local/lib/python3.11/dist-packages (from matplotlib) (4.58.4)\r\n",
      "Requirement already satisfied: kiwisolver>=1.0.1 in /usr/local/lib/python3.11/dist-packages (from matplotlib) (1.4.8)\r\n",
      "Requirement already satisfied: packaging>=20.0 in /usr/local/lib/python3.11/dist-packages (from matplotlib) (25.0)\r\n",
      "Requirement already satisfied: pillow>=6.2.0 in /usr/local/lib/python3.11/dist-packages (from matplotlib) (11.2.1)\r\n",
      "Requirement already satisfied: pyparsing<3.1,>=2.3.1 in /usr/local/lib/python3.11/dist-packages (from matplotlib) (3.0.9)\r\n",
      "Requirement already satisfied: click in /usr/local/lib/python3.11/dist-packages (from nltk) (8.2.1)\r\n",
      "Requirement already satisfied: joblib in /usr/local/lib/python3.11/dist-packages (from nltk) (1.5.1)\r\n",
      "Requirement already satisfied: regex>=2021.8.3 in /usr/local/lib/python3.11/dist-packages (from nltk) (2024.11.6)\r\n",
      "Requirement already satisfied: tqdm in /usr/local/lib/python3.11/dist-packages (from nltk) (4.67.1)\r\n",
      "Requirement already satisfied: six>=1.5 in /usr/local/lib/python3.11/dist-packages (from python-dateutil>=2.8.2->pandas) (1.17.0)\r\n",
      "Requirement already satisfied: intel-openmp<2026,>=2024 in /usr/local/lib/python3.11/dist-packages (from mkl->numpy) (2024.2.0)\r\n",
      "Requirement already satisfied: tbb==2022.* in /usr/local/lib/python3.11/dist-packages (from mkl->numpy) (2022.2.0)\r\n",
      "Requirement already satisfied: tcmlib==1.* in /usr/local/lib/python3.11/dist-packages (from tbb==2022.*->mkl->numpy) (1.4.0)\r\n",
      "Requirement already satisfied: intel-cmplr-lib-rt in /usr/local/lib/python3.11/dist-packages (from mkl_umath->numpy) (2024.2.0)\r\n",
      "Requirement already satisfied: intel-cmplr-lib-ur==2024.2.0 in /usr/local/lib/python3.11/dist-packages (from intel-openmp<2026,>=2024->mkl->numpy) (2024.2.0)\r\n"
     ]
    }
   ],
   "source": [
    "# Installing libraries\n",
    "!pip install seaborn numpy pandas matplotlib nltk"
   ]
  },
  {
   "cell_type": "raw",
   "id": "940df95d",
   "metadata": {
    "papermill": {
     "duration": 0.003606,
     "end_time": "2025-07-08T04:07:33.978250",
     "exception": false,
     "start_time": "2025-07-08T04:07:33.974644",
     "status": "completed"
    },
    "tags": []
   },
   "source": [
    "import nltk\n",
    "nltk.download('punkt')\n",
    "nltk.download('stopwords')"
   ]
  },
  {
   "cell_type": "code",
   "execution_count": 3,
   "id": "3532db20",
   "metadata": {
    "execution": {
     "iopub.execute_input": "2025-07-08T04:07:33.987892Z",
     "iopub.status.busy": "2025-07-08T04:07:33.987479Z",
     "iopub.status.idle": "2025-07-08T04:07:37.302692Z",
     "shell.execute_reply": "2025-07-08T04:07:37.301864Z"
    },
    "papermill": {
     "duration": 3.322333,
     "end_time": "2025-07-08T04:07:37.304478",
     "exception": false,
     "start_time": "2025-07-08T04:07:33.982145",
     "status": "completed"
    },
    "tags": []
   },
   "outputs": [],
   "source": [
    "# pandas for maniplating, cleaning, and exploring data\n",
    "import pandas as pd\n",
    "# numerical computing in Python. arrays and performance optimization\n",
    "import numpy as np\n",
    "# plotting\n",
    "import matplotlib.pyplot as plt\n",
    "# built ontop of plt, heatmaps, boxplots, distribution plots\n",
    "import seaborn as sns\n",
    "# basic natural language processing. tokenizations\n",
    "# stopwords, stemming, etc\n",
    "import nltk\n",
    "from nltk.tokenize import word_tokenize\n",
    "from nltk.corpus import stopwords"
   ]
  },
  {
   "cell_type": "markdown",
   "id": "b82c21ab",
   "metadata": {
    "papermill": {
     "duration": 0.003528,
     "end_time": "2025-07-08T04:07:37.312036",
     "exception": false,
     "start_time": "2025-07-08T04:07:37.308508",
     "status": "completed"
    },
    "tags": []
   },
   "source": [
    "## Load Datasets"
   ]
  },
  {
   "cell_type": "code",
   "execution_count": 4,
   "id": "ee32a71b",
   "metadata": {
    "execution": {
     "iopub.execute_input": "2025-07-08T04:07:37.321828Z",
     "iopub.status.busy": "2025-07-08T04:07:37.321170Z",
     "iopub.status.idle": "2025-07-08T04:07:37.359523Z",
     "shell.execute_reply": "2025-07-08T04:07:37.358266Z"
    },
    "papermill": {
     "duration": 0.046274,
     "end_time": "2025-07-08T04:07:37.362289",
     "exception": false,
     "start_time": "2025-07-08T04:07:37.316015",
     "status": "completed"
    },
    "tags": []
   },
   "outputs": [],
   "source": [
    "train = pd.read_csv('/kaggle/input/2024-u-s-election-sentiment-on-x/train.csv')\n",
    "test = pd.read_csv('/kaggle/input/2024-u-s-election-sentiment-on-x/test.csv')\n",
    "val = pd.read_csv('/kaggle/input/2024-u-s-election-sentiment-on-x/val.csv')"
   ]
  },
  {
   "cell_type": "markdown",
   "id": "fff8cb66",
   "metadata": {
    "papermill": {
     "duration": 0.006238,
     "end_time": "2025-07-08T04:07:37.377774",
     "exception": false,
     "start_time": "2025-07-08T04:07:37.371536",
     "status": "completed"
    },
    "tags": []
   },
   "source": [
    "## Display first few rows of each dataset"
   ]
  },
  {
   "cell_type": "markdown",
   "id": "896a85d7",
   "metadata": {
    "papermill": {
     "duration": 0.008468,
     "end_time": "2025-07-08T04:07:37.393478",
     "exception": false,
     "start_time": "2025-07-08T04:07:37.385010",
     "status": "completed"
    },
    "tags": []
   },
   "source": [
    "### Training Data\n",
    "Training data from the 2024 US Presidential election, sourcced from X (fromerly Twitter). It includes post text, candidate information, party affiliation, sentitment labels, retweet counts, and like. This data is ideal for training machine learning models to analyze public sentiment and trends."
   ]
  },
  {
   "cell_type": "code",
   "execution_count": 5,
   "id": "34aea57a",
   "metadata": {
    "execution": {
     "iopub.execute_input": "2025-07-08T04:07:37.407479Z",
     "iopub.status.busy": "2025-07-08T04:07:37.406512Z",
     "iopub.status.idle": "2025-07-08T04:07:37.429081Z",
     "shell.execute_reply": "2025-07-08T04:07:37.427265Z"
    },
    "papermill": {
     "duration": 0.030665,
     "end_time": "2025-07-08T04:07:37.431424",
     "exception": false,
     "start_time": "2025-07-08T04:07:37.400759",
     "status": "completed"
    },
    "tags": []
   },
   "outputs": [
    {
     "name": "stdout",
     "output_type": "stream",
     "text": [
      "Train Dataset:    tweet_id     user_handle            timestamp  \\\n",
      "0         1        @user123  2024-11-03 08:45:00   \n",
      "1         2    @politicsFan  2024-11-03 09:15:23   \n",
      "2         3  @greenAdvocate  2024-11-03 10:05:45   \n",
      "3         4     @indieVoice  2024-11-03 11:20:10   \n",
      "4         5   @libertyLover  2024-11-03 12:35:55   \n",
      "\n",
      "                                          tweet_text       candidate  \\\n",
      "0  Excited to see Kamala Harris leading the Democ...   Kamala Harris   \n",
      "1  Donald Trump's policies are the best for our e...    Donald Trump   \n",
      "2  Jill Stein's environmental plans are exactly w...      Jill Stein   \n",
      "3  Robert Kennedy offers a fresh perspective outs...  Robert Kennedy   \n",
      "4  Chase Oliver's libertarian stance promotes tru...    Chase Oliver   \n",
      "\n",
      "               party  retweets  likes sentiment  \n",
      "0   Democratic Party       120    450  positive  \n",
      "1   Republican Party        85    300  positive  \n",
      "2        Green Party        60    200  positive  \n",
      "3        Independent        40    150   neutral  \n",
      "4  Libertarian Party        30    120  positive  \n"
     ]
    }
   ],
   "source": [
    "print('Train Dataset:', train.head())"
   ]
  },
  {
   "cell_type": "markdown",
   "id": "73794d7f",
   "metadata": {
    "papermill": {
     "duration": 0.004039,
     "end_time": "2025-07-08T04:07:37.440491",
     "exception": false,
     "start_time": "2025-07-08T04:07:37.436452",
     "status": "completed"
    },
    "tags": []
   },
   "source": [
    "### Testing Data\n",
    "This file provides testing data from the 2024 US Presidential election. It contains post text, candidate details, party affilication, and engagement metrics. This dataset is used to evaluate the performance of models trains on the training data."
   ]
  },
  {
   "cell_type": "code",
   "execution_count": 6,
   "id": "4e3209eb",
   "metadata": {
    "execution": {
     "iopub.execute_input": "2025-07-08T04:07:37.449911Z",
     "iopub.status.busy": "2025-07-08T04:07:37.449551Z",
     "iopub.status.idle": "2025-07-08T04:07:37.460023Z",
     "shell.execute_reply": "2025-07-08T04:07:37.458711Z"
    },
    "papermill": {
     "duration": 0.017082,
     "end_time": "2025-07-08T04:07:37.461693",
     "exception": false,
     "start_time": "2025-07-08T04:07:37.444611",
     "status": "completed"
    },
    "tags": []
   },
   "outputs": [
    {
     "name": "stdout",
     "output_type": "stream",
     "text": [
      "\n",
      " Test Dataset:    tweet_id       user_handle            timestamp  \\\n",
      "0       501         @user1068  2025-02-11 08:30:10   \n",
      "1       502     @politicsNew2  2025-02-11 09:15:20   \n",
      "2       503  @greenVisionary2  2025-02-11 10:05:35   \n",
      "3       504    @indieWatcher2  2025-02-11 11:25:40   \n",
      "4       505      @libertyFan4  2025-02-11 12:40:50   \n",
      "\n",
      "                                          tweet_text       candidate  \\\n",
      "0  Kamala Harris's new policy on education reform...   Kamala Harris   \n",
      "1  Donald Trump's latest speech on the economy wa...    Donald Trump   \n",
      "2  Jill Stein's environmental policies are a step...      Jill Stein   \n",
      "3  Robert Kennedy's independent run brings fresh ...  Robert Kennedy   \n",
      "4  Chase Oliver's stance on gun rights is unwaver...    Chase Oliver   \n",
      "\n",
      "               party  retweets  likes sentiment  \n",
      "0   Democratic Party        85    320  positive  \n",
      "1   Republican Party       100    450  positive  \n",
      "2        Green Party        60    200  positive  \n",
      "3        Independent        30    120   neutral  \n",
      "4  Libertarian Party        50    160  positive  \n"
     ]
    }
   ],
   "source": [
    "print('\\n Test Dataset:', test.head())"
   ]
  },
  {
   "cell_type": "markdown",
   "id": "c4c9ec0d",
   "metadata": {
    "papermill": {
     "duration": 0.003801,
     "end_time": "2025-07-08T04:07:37.470073",
     "exception": false,
     "start_time": "2025-07-08T04:07:37.466272",
     "status": "completed"
    },
    "tags": []
   },
   "source": [
    "### Validation Data\n",
    "This file contains validation data for the 2024 US Presidential election. It includes post content, candidates, party affiliation, and sentiment labels. Use this file to fine-tune and validate model accuracy and performance. "
   ]
  },
  {
   "cell_type": "code",
   "execution_count": 7,
   "id": "379d6986",
   "metadata": {
    "execution": {
     "iopub.execute_input": "2025-07-08T04:07:37.479469Z",
     "iopub.status.busy": "2025-07-08T04:07:37.478671Z",
     "iopub.status.idle": "2025-07-08T04:07:37.486360Z",
     "shell.execute_reply": "2025-07-08T04:07:37.485450Z"
    },
    "papermill": {
     "duration": 0.014115,
     "end_time": "2025-07-08T04:07:37.488078",
     "exception": false,
     "start_time": "2025-07-08T04:07:37.473963",
     "status": "completed"
    },
    "tags": []
   },
   "outputs": [
    {
     "name": "stdout",
     "output_type": "stream",
     "text": [
      "Validation Dataset:    tweet_id       user_handle            timestamp  \\\n",
      "0       551         @user1077  2025-02-21 08:30:10   \n",
      "1       552     @politicsNew3  2025-02-21 09:15:20   \n",
      "2       553  @greenVisionary3  2025-02-21 10:05:35   \n",
      "3       554    @indieWatcher3  2025-02-21 11:25:40   \n",
      "4       555      @libertyFan5  2025-02-21 12:40:50   \n",
      "\n",
      "                                          tweet_text       candidate  \\\n",
      "0  Kamala Harris's new policy on education reform...   Kamala Harris   \n",
      "1  Donald Trump's latest speech on the economy wa...    Donald Trump   \n",
      "2  Jill Stein's environmental policies are a step...      Jill Stein   \n",
      "3  Robert Kennedy's independent run brings fresh ...  Robert Kennedy   \n",
      "4  Chase Oliver's stance on gun rights is unwaver...    Chase Oliver   \n",
      "\n",
      "               party  retweets  likes sentiment  \n",
      "0   Democratic Party        85    320  positive  \n",
      "1   Republican Party       100    450  positive  \n",
      "2        Green Party        60    200  positive  \n",
      "3        Independent        30    120   neutral  \n",
      "4  Libertarian Party        50    160  positive  \n"
     ]
    }
   ],
   "source": [
    "print('Validation Dataset:', val.head())"
   ]
  },
  {
   "cell_type": "markdown",
   "id": "2fa7f0e8",
   "metadata": {
    "papermill": {
     "duration": 0.00427,
     "end_time": "2025-07-08T04:07:37.496754",
     "exception": false,
     "start_time": "2025-07-08T04:07:37.492484",
     "status": "completed"
    },
    "tags": []
   },
   "source": [
    "# Data Exploration"
   ]
  },
  {
   "cell_type": "markdown",
   "id": "3182aebe",
   "metadata": {
    "papermill": {
     "duration": 0.004246,
     "end_time": "2025-07-08T04:07:37.505050",
     "exception": false,
     "start_time": "2025-07-08T04:07:37.500804",
     "status": "completed"
    },
    "tags": []
   },
   "source": [
    "Dataset overview for all 3 files"
   ]
  },
  {
   "cell_type": "markdown",
   "id": "2b5c5dfb",
   "metadata": {
    "papermill": {
     "duration": 0.003875,
     "end_time": "2025-07-08T04:07:37.513092",
     "exception": false,
     "start_time": "2025-07-08T04:07:37.509217",
     "status": "completed"
    },
    "tags": []
   },
   "source": [
    "### `pandas.info()`\n",
    "`.info()` is a pandas method that \"prints a concise summary oof a DataFrame.\n",
    "This method provides a concise summary about a DataFrame including data types, non-null values, and memeory usage for each column. <br>\n"
   ]
  },
  {
   "cell_type": "code",
   "execution_count": 8,
   "id": "aff625ba",
   "metadata": {
    "execution": {
     "iopub.execute_input": "2025-07-08T04:07:37.524313Z",
     "iopub.status.busy": "2025-07-08T04:07:37.523958Z",
     "iopub.status.idle": "2025-07-08T04:07:37.550995Z",
     "shell.execute_reply": "2025-07-08T04:07:37.549789Z"
    },
    "papermill": {
     "duration": 0.034513,
     "end_time": "2025-07-08T04:07:37.552599",
     "exception": false,
     "start_time": "2025-07-08T04:07:37.518086",
     "status": "completed"
    },
    "tags": []
   },
   "outputs": [
    {
     "name": "stdout",
     "output_type": "stream",
     "text": [
      "Train Dataset Info:\n",
      "<class 'pandas.core.frame.DataFrame'>\n",
      "RangeIndex: 500 entries, 0 to 499\n",
      "Data columns (total 9 columns):\n",
      " #   Column       Non-Null Count  Dtype \n",
      "---  ------       --------------  ----- \n",
      " 0   tweet_id     500 non-null    int64 \n",
      " 1   user_handle  500 non-null    object\n",
      " 2   timestamp    500 non-null    object\n",
      " 3   tweet_text   500 non-null    object\n",
      " 4   candidate    500 non-null    object\n",
      " 5   party        500 non-null    object\n",
      " 6   retweets     500 non-null    int64 \n",
      " 7   likes        500 non-null    int64 \n",
      " 8   sentiment    500 non-null    object\n",
      "dtypes: int64(3), object(6)\n",
      "memory usage: 35.3+ KB\n"
     ]
    }
   ],
   "source": [
    "print('Train Dataset Info:')\n",
    "train.info()"
   ]
  },
  {
   "cell_type": "code",
   "execution_count": 9,
   "id": "bd9ebb2f",
   "metadata": {
    "execution": {
     "iopub.execute_input": "2025-07-08T04:07:37.563018Z",
     "iopub.status.busy": "2025-07-08T04:07:37.562257Z",
     "iopub.status.idle": "2025-07-08T04:07:37.573508Z",
     "shell.execute_reply": "2025-07-08T04:07:37.572187Z"
    },
    "papermill": {
     "duration": 0.018114,
     "end_time": "2025-07-08T04:07:37.575212",
     "exception": false,
     "start_time": "2025-07-08T04:07:37.557098",
     "status": "completed"
    },
    "tags": []
   },
   "outputs": [
    {
     "name": "stdout",
     "output_type": "stream",
     "text": [
      "Test Dataset Info: \n",
      "<class 'pandas.core.frame.DataFrame'>\n",
      "RangeIndex: 50 entries, 0 to 49\n",
      "Data columns (total 9 columns):\n",
      " #   Column       Non-Null Count  Dtype \n",
      "---  ------       --------------  ----- \n",
      " 0   tweet_id     50 non-null     int64 \n",
      " 1   user_handle  50 non-null     object\n",
      " 2   timestamp    50 non-null     object\n",
      " 3   tweet_text   50 non-null     object\n",
      " 4   candidate    50 non-null     object\n",
      " 5   party        50 non-null     object\n",
      " 6   retweets     50 non-null     int64 \n",
      " 7   likes        50 non-null     int64 \n",
      " 8   sentiment    50 non-null     object\n",
      "dtypes: int64(3), object(6)\n",
      "memory usage: 3.6+ KB\n"
     ]
    }
   ],
   "source": [
    "print('Test Dataset Info: ')\n",
    "test.info()"
   ]
  },
  {
   "cell_type": "code",
   "execution_count": 10,
   "id": "ea71d6db",
   "metadata": {
    "execution": {
     "iopub.execute_input": "2025-07-08T04:07:37.584942Z",
     "iopub.status.busy": "2025-07-08T04:07:37.584595Z",
     "iopub.status.idle": "2025-07-08T04:07:37.595934Z",
     "shell.execute_reply": "2025-07-08T04:07:37.594833Z"
    },
    "papermill": {
     "duration": 0.017991,
     "end_time": "2025-07-08T04:07:37.597402",
     "exception": false,
     "start_time": "2025-07-08T04:07:37.579411",
     "status": "completed"
    },
    "tags": []
   },
   "outputs": [
    {
     "name": "stdout",
     "output_type": "stream",
     "text": [
      "Validation Dataset Info: \n",
      "<class 'pandas.core.frame.DataFrame'>\n",
      "RangeIndex: 50 entries, 0 to 49\n",
      "Data columns (total 9 columns):\n",
      " #   Column       Non-Null Count  Dtype \n",
      "---  ------       --------------  ----- \n",
      " 0   tweet_id     50 non-null     int64 \n",
      " 1   user_handle  50 non-null     object\n",
      " 2   timestamp    50 non-null     object\n",
      " 3   tweet_text   50 non-null     object\n",
      " 4   candidate    50 non-null     object\n",
      " 5   party        50 non-null     object\n",
      " 6   retweets     50 non-null     int64 \n",
      " 7   likes        50 non-null     int64 \n",
      " 8   sentiment    50 non-null     object\n",
      "dtypes: int64(3), object(6)\n",
      "memory usage: 3.6+ KB\n"
     ]
    }
   ],
   "source": [
    "print('Validation Dataset Info: ')\n",
    "val.info()"
   ]
  },
  {
   "cell_type": "code",
   "execution_count": null,
   "id": "eb22e7d9",
   "metadata": {
    "papermill": {
     "duration": 0.004295,
     "end_time": "2025-07-08T04:07:37.606237",
     "exception": false,
     "start_time": "2025-07-08T04:07:37.601942",
     "status": "completed"
    },
    "tags": []
   },
   "outputs": [],
   "source": []
  }
 ],
 "metadata": {
  "kaggle": {
   "accelerator": "none",
   "dataSources": [
    {
     "datasetId": 6253429,
     "sourceId": 10132394,
     "sourceType": "datasetVersion"
    }
   ],
   "dockerImageVersionId": 31089,
   "isGpuEnabled": false,
   "isInternetEnabled": false,
   "language": "python",
   "sourceType": "notebook"
  },
  "kernelspec": {
   "display_name": "Python 3",
   "language": "python",
   "name": "python3"
  },
  "language_info": {
   "codemirror_mode": {
    "name": "ipython",
    "version": 3
   },
   "file_extension": ".py",
   "mimetype": "text/x-python",
   "name": "python",
   "nbconvert_exporter": "python",
   "pygments_lexer": "ipython3",
   "version": "3.11.13"
  },
  "papermill": {
   "default_parameters": {},
   "duration": 17.992524,
   "end_time": "2025-07-08T04:07:38.431349",
   "environment_variables": {},
   "exception": null,
   "input_path": "__notebook__.ipynb",
   "output_path": "__notebook__.ipynb",
   "parameters": {},
   "start_time": "2025-07-08T04:07:20.438825",
   "version": "2.6.0"
  }
 },
 "nbformat": 4,
 "nbformat_minor": 5
}
